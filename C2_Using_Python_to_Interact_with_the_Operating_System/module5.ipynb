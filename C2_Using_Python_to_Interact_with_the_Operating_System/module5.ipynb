{
 "cells": [
  {
   "cell_type": "markdown",
   "metadata": {},
   "source": [
    "# Simple test"
   ]
  },
  {
   "cell_type": "markdown",
   "metadata": {},
   "source": [
    "## Unit Test"
   ]
  },
  {
   "cell_type": "markdown",
   "metadata": {},
   "source": [
    "Use case:\n",
    "- Test fixture: preparing to perform one or more tests, including any actions involved in testing cleanup. This could involve creating temporary or proxy databases, directories, or starting a server process.\n",
    "- Test case: individual unit of testing that looks for a specific response to a set of inputs. If needed, TestCase is a base class provided by unittest and can be used to create new test cases.\n",
    "- Test suite: collection of test cases, test suites, or a combination of both. It is used to compile tests that should be executed together.\n",
    "- Test runner: runs the test and provides developers with the outcome’s data. The test runner can use different interfaces, like graphical or textual, to provide the developer with the test results. It can also provide a special value to developers to communicate the test results. "
   ]
  },
  {
   "cell_type": "code",
   "execution_count": null,
   "metadata": {},
   "outputs": [],
   "source": [
    "from typing import List, Tuple\n",
    "import sys"
   ]
  },
  {
   "cell_type": "code",
   "execution_count": null,
   "metadata": {},
   "outputs": [],
   "source": [
    "class cake:\n",
    "    def __init__(self, cake_type: str, size: str):\n",
    "        self.cake_type = cake_type\n",
    "        self.size = size\n",
    "        self.topic = []\n",
    "        self.price = 10\n",
    "        self.price += 5 if self.size == \"large\" else 0"
   ]
  },
  {
   "cell_type": "code",
   "execution_count": null,
   "metadata": {},
   "outputs": [],
   "source": []
  }
 ],
 "metadata": {
  "language_info": {
   "name": "python"
  }
 },
 "nbformat": 4,
 "nbformat_minor": 2
}
