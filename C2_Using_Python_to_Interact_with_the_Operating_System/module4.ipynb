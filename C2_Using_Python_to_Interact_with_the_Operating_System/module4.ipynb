{
 "cells": [
  {
   "cell_type": "code",
   "execution_count": 2,
   "metadata": {},
   "outputs": [],
   "source": [
    "import os\n",
    "import sys\n"
   ]
  },
  {
   "cell_type": "code",
   "execution_count": null,
   "metadata": {},
   "outputs": [],
   "source": [
    "# create a new file\n",
    "filename = sys.argv[1]\n",
    "if not os.path.exists(filename):\n",
    "    with open(filename, 'w') as f:\n",
    "        f.write('New file created\\n')\n",
    "else: \n",
    "    print(f'Error: {filename} already exists')\n",
    "    sys.exit(1)"
   ]
  },
  {
   "cell_type": "markdown",
   "metadata": {},
   "source": [
    "# python subprocess"
   ]
  },
  {
   "cell_type": "code",
   "execution_count": 1,
   "metadata": {},
   "outputs": [],
   "source": [
    "import subprocess"
   ]
  },
  {
   "cell_type": "code",
   "execution_count": null,
   "metadata": {},
   "outputs": [],
   "source": []
  },
  {
   "cell_type": "markdown",
   "metadata": {},
   "source": [
    "# Qwiklabs assessment: Work with log files"
   ]
  },
  {
   "cell_type": "code",
   "execution_count": 4,
   "metadata": {},
   "outputs": [],
   "source": [
    "import sys\n",
    "import os\n",
    "import re"
   ]
  },
  {
   "cell_type": "code",
   "execution_count": null,
   "metadata": {},
   "outputs": [],
   "source": [
    "def error_search(log_file):\n",
    "    error = input(\"What is the error? \")\n",
    "    returned_errors = []\n",
    "    with open(log_file, 'r', encoding='UTF-8') as file:\n",
    "        for log in file.readlines():\n",
    "            error_patterns = [\"error\"]\n",
    "            for i in range(len(error.split(' '))):\n",
    "                error_patterns.append(r\"{}\".format(error.split(' ')[i].lower()))\n",
    "            if all(re.search(error_pattern, log.lower()) for error_pattern in error_patterns):\n",
    "                returned_errors.append(log)\n",
    "        file.close()\n",
    "    return returned_errors\n",
    "\n",
    "def file_output(returned_errors):\n",
    "    with open(os.path.expanduser('~') + '/data/errors_found.log', 'w') as file:\n",
    "        for error in returned_errors:\n",
    "            file.write(error)\n",
    "        file.close()\n",
    "\n",
    "if __name__ == \"__main__\":\n",
    "    log_file = sys.argv[1]\n",
    "    returned_errors = error_search(log_file)\n",
    "    file_output(returned_errors)\n",
    "    sys.exit(0)"
   ]
  },
  {
   "cell_type": "code",
   "execution_count": null,
   "metadata": {},
   "outputs": [],
   "source": []
  }
 ],
 "metadata": {
  "kernelspec": {
   "display_name": "Python 3",
   "language": "python",
   "name": "python3"
  },
  "language_info": {
   "codemirror_mode": {
    "name": "ipython",
    "version": 3
   },
   "file_extension": ".py",
   "mimetype": "text/x-python",
   "name": "python",
   "nbconvert_exporter": "python",
   "pygments_lexer": "ipython3",
   "version": "3.12.1"
  }
 },
 "nbformat": 4,
 "nbformat_minor": 2
}
